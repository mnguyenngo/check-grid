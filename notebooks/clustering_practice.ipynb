{
 "cells": [
  {
   "cell_type": "code",
   "execution_count": 2,
   "metadata": {},
   "outputs": [
    {
     "name": "stdout",
     "output_type": "stream",
     "text": [
      "/Users/nguyen/projects/checkgrid\n"
     ]
    }
   ],
   "source": [
    "cd .."
   ]
  },
  {
   "cell_type": "code",
   "execution_count": 4,
   "metadata": {},
   "outputs": [],
   "source": [
    "from checkgrid.agenda import Agenda\n",
    "from checkgrid.task import Task\n",
    "\n",
    "import spacy\n",
    "from sklearn.decomposition import PCA\n",
    "from sklearn.cluster import KMeans\n",
    "from sklearn.neighbors import KNeighborsClassifier\n",
    "\n",
    "import numpy as np\n",
    "import matplotlib.pyplot as plt\n",
    "%matplotlib inline"
   ]
  },
  {
   "cell_type": "code",
   "execution_count": 85,
   "metadata": {},
   "outputs": [],
   "source": [
    "stringlist = [\"buy dog food\",\n",
    "              \"wash the car\", \n",
    "              \"reply to client\",\n",
    "              \"meeting at Starbucks\",\n",
    "              \"job fair\",\n",
    "              \"carrots\",\n",
    "              \"paper towels\",\n",
    "              \"wine\",\n",
    "              \"gift for Max\",\n",
    "              \"potatoes\",\n",
    "              \"notebooks\",\n",
    "              \"deep learning course\", \n",
    "              \"Ziplocs\",\n",
    "              \"tomato soup\"]"
   ]
  },
  {
   "cell_type": "code",
   "execution_count": 86,
   "metadata": {},
   "outputs": [],
   "source": [
    "a = Agenda()"
   ]
  },
  {
   "cell_type": "code",
   "execution_count": 87,
   "metadata": {},
   "outputs": [],
   "source": [
    "nlp = spacy.load('en')"
   ]
  },
  {
   "cell_type": "code",
   "execution_count": 88,
   "metadata": {},
   "outputs": [],
   "source": [
    "for item in stringlist:\n",
    "    task_item = Task(item)\n",
    "    a.add_task(task_item)"
   ]
  },
  {
   "cell_type": "code",
   "execution_count": 89,
   "metadata": {},
   "outputs": [],
   "source": [
    "vectorlist = [nlp(task.text).vector for task in a._agenda]\n",
    "X = np.stack(vectorlist)"
   ]
  },
  {
   "cell_type": "code",
   "execution_count": 90,
   "metadata": {},
   "outputs": [
    {
     "data": {
      "text/plain": [
       "array([[ 2.4463727 ,  0.94281477,  0.35402393, ...,  0.35308394,\n",
       "         0.37843004, -0.21417774],\n",
       "       [ 1.3470153 ,  1.8956646 ,  1.2159381 , ..., -0.19987601,\n",
       "         0.67765236,  0.19373482],\n",
       "       [ 1.7583257 ,  0.05642255,  1.0713167 , ...,  0.20121507,\n",
       "         0.08450678,  0.04582195],\n",
       "       ...,\n",
       "       [ 0.30093786,  0.1882627 , -1.4257296 , ...,  0.26435122,\n",
       "         0.20384522, -0.17570214],\n",
       "       [-1.0857319 ,  0.8802606 ,  4.605983  , ...,  0.2352458 ,\n",
       "         0.37263033, -0.5284542 ],\n",
       "       [-0.8143158 ,  0.0072438 ,  0.0458684 , ...,  0.6748451 ,\n",
       "        -0.04348268,  0.19375853]], dtype=float32)"
      ]
     },
     "execution_count": 90,
     "metadata": {},
     "output_type": "execute_result"
    }
   ],
   "source": [
    "X"
   ]
  },
  {
   "cell_type": "code",
   "execution_count": 91,
   "metadata": {},
   "outputs": [],
   "source": [
    "km = KMeans(6)\n",
    "labels = km.fit_predict(X)"
   ]
  },
  {
   "cell_type": "code",
   "execution_count": 92,
   "metadata": {},
   "outputs": [
    {
     "data": {
      "text/plain": [
       "array([5, 5, 3, 3, 0, 1, 2, 2, 3, 1, 1, 0, 4, 0], dtype=int32)"
      ]
     },
     "execution_count": 92,
     "metadata": {},
     "output_type": "execute_result"
    }
   ],
   "source": [
    "labels"
   ]
  },
  {
   "cell_type": "code",
   "execution_count": 93,
   "metadata": {},
   "outputs": [
    {
     "data": {
      "text/plain": [
       "array([ 4, 11, 13])"
      ]
     },
     "execution_count": 93,
     "metadata": {},
     "output_type": "execute_result"
    }
   ],
   "source": [
    "np.argwhere(labels == 0).flatten()"
   ]
  },
  {
   "cell_type": "code",
   "execution_count": 94,
   "metadata": {},
   "outputs": [
    {
     "name": "stdout",
     "output_type": "stream",
     "text": [
      "0\n",
      "job fair\n",
      "deep learning course\n",
      "tomato soup\n",
      "1\n",
      "carrots\n",
      "potatoes\n",
      "notebooks\n",
      "2\n",
      "paper towels\n",
      "wine\n",
      "3\n",
      "reply to client\n",
      "meeting at Starbucks\n",
      "gift for Max\n",
      "4\n",
      "Ziplocs\n",
      "5\n",
      "buy dog food\n",
      "wash the car\n"
     ]
    }
   ],
   "source": [
    "for label in np.unique(labels):\n",
    "    print(label)\n",
    "    indices = np.argwhere(labels == label).flatten()\n",
    "    for idx in indices:\n",
    "        print(a._agenda[idx].text)"
   ]
  },
  {
   "cell_type": "code",
   "execution_count": 95,
   "metadata": {},
   "outputs": [
    {
     "data": {
      "image/png": "[encoded data removed]",
      "text/plain": [
       "<matplotlib.figure.Figure at 0x133cfd908>"
      ]
     },
     "metadata": {},
     "output_type": "display_data"
    }
   ],
   "source": [
    "a.plot_agenda_2d()"
   ]
  },
  {
   "cell_type": "code",
   "execution_count": null,
   "metadata": {},
   "outputs": [],
   "source": []
  }
 ],
 "metadata": {
  "kernelspec": {
   "display_name": "Python 3",
   "language": "python",
   "name": "python3"
  },
  "language_info": {
   "codemirror_mode": {
    "name": "ipython",
    "version": 3
   },
   "file_extension": ".py",
   "mimetype": "text/x-python",
   "name": "python",
   "nbconvert_exporter": "python",
   "pygments_lexer": "ipython3",
   "version": "3.6.3"
  }
 },
 "nbformat": 4,
 "nbformat_minor": 2
}
