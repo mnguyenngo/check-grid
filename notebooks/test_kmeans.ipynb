{
 "cells": [
  {
   "cell_type": "code",
   "execution_count": 1,
   "metadata": {},
   "outputs": [
    {
     "name": "stdout",
     "output_type": "stream",
     "text": [
      "/Users/nguyen/projects/checkgrid/checkgrid\n"
     ]
    }
   ],
   "source": [
    "cd ../checkgrid/"
   ]
  },
  {
   "cell_type": "code",
   "execution_count": 16,
   "metadata": {},
   "outputs": [],
   "source": [
    "from agenda import Agenda\n",
    "# from checkgrid.task import Task"
   ]
  },
  {
   "cell_type": "code",
   "execution_count": 17,
   "metadata": {},
   "outputs": [],
   "source": [
    "stringlist = [\"buy dog food\",\n",
    "              \"wash the car\", \n",
    "              \"reply to client\",\n",
    "              \"meeting at Starbucks\",\n",
    "              \"job fair\",\n",
    "              \"carrots\",\n",
    "              \"paper towels\",\n",
    "              \"wine\",\n",
    "              \"gift for Max\"]"
   ]
  },
  {
   "cell_type": "code",
   "execution_count": 18,
   "metadata": {},
   "outputs": [],
   "source": [
    "a = Agenda()"
   ]
  },
  {
   "cell_type": "code",
   "execution_count": 19,
   "metadata": {},
   "outputs": [],
   "source": [
    "for item in stringlist:\n",
    "    a.add_task(item)"
   ]
  },
  {
   "cell_type": "code",
   "execution_count": 20,
   "metadata": {},
   "outputs": [
    {
     "data": {
      "image/png": "[encoded data removed]",
      "text/plain": [
       "<matplotlib.figure.Figure at 0x117f10f98>"
      ]
     },
     "metadata": {},
     "output_type": "display_data"
    }
   ],
   "source": [
    "a.plot_agenda_2d()"
   ]
  },
  {
   "cell_type": "code",
   "execution_count": 21,
   "metadata": {},
   "outputs": [
    {
     "name": "stdout",
     "output_type": "stream",
     "text": [
      "0\n",
      "buy dog food\n",
      "wash the car\n",
      "reply to client\n",
      "meeting at Starbucks\n",
      "job fair\n",
      "gift for Max\n",
      "1\n",
      "carrots\n",
      "2\n",
      "paper towels\n",
      "wine\n"
     ]
    }
   ],
   "source": [
    "a.kmeans_cat()"
   ]
  },
  {
   "cell_type": "code",
   "execution_count": null,
   "metadata": {},
   "outputs": [],
   "source": []
  }
 ],
 "metadata": {
  "kernelspec": {
   "display_name": "Python 3",
   "language": "python",
   "name": "python3"
  },
  "language_info": {
   "codemirror_mode": {
    "name": "ipython",
    "version": 3
   },
   "file_extension": ".py",
   "mimetype": "text/x-python",
   "name": "python",
   "nbconvert_exporter": "python",
   "pygments_lexer": "ipython3",
   "version": "3.6.3"
  }
 },
 "nbformat": 4,
 "nbformat_minor": 2
}
